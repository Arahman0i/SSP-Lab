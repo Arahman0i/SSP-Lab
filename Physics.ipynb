{
  "cells": [
    {
      "cell_type": "markdown",
      "metadata": {
        "id": "view-in-github",
        "colab_type": "text"
      },
      "source": [
        "<a href=\"https://colab.research.google.com/github/Arahman0i/SSP-Lab/blob/main/Physics.ipynb\" target=\"_parent\"><img src=\"https://colab.research.google.com/assets/colab-badge.svg\" alt=\"Open In Colab\"/></a>"
      ]
    },
    {
      "cell_type": "markdown",
      "metadata": {
        "id": "26aHscy6gx0F"
      },
      "source": [
        "# **Data Analysis Tools**\n",
        "---\n",
        "\n"
      ]
    },
    {
      "cell_type": "code",
      "execution_count": null,
      "metadata": {
        "id": "Sgxoig9qg6f8"
      },
      "outputs": [],
      "source": [
        "import matplotlib.pyplot as plt\n",
        "import numpy as np\n",
        "\n",
        "x= np.linspace(0,10,100)\n",
        "y1=np.sin(x)\n",
        "y2=np.cos(x)\n",
        "\n",
        "plt.plot(x,y1,label='Sine function')\n",
        "plt.plot(x,y2,label='Cosine function',linestyle='--')\n",
        "plt.xlabel('x-axis')\n",
        "plt.ylabel('y-axis')\n",
        "plt.title('Comparison between Sine and Cosine Functions')\n",
        "plt.legend()\n",
        "plt.grid(True)\n",
        "plt.show()"
      ]
    },
    {
      "cell_type": "markdown",
      "metadata": {
        "id": "nFb3JJu_zetz"
      },
      "source": [
        "**Note**:\n",
        "1. Matplotlib graphs are better than that of gnuplot's."
      ]
    },
    {
      "cell_type": "markdown",
      "metadata": {
        "id": "h0-VLFr-WAp-"
      },
      "source": [
        "# **10th May 2025: Solids Theory from Quantum Mechancics by DJ Griffith**\n",
        "---\n",
        "\n",
        "\n"
      ]
    },
    {
      "cell_type": "markdown",
      "metadata": {
        "id": "bafaRacmXHuw"
      },
      "source": [
        "This Python Code calculates the Fermi energy based on the no. free electrons(d), atomic weight(gm/mole) and density(gm/cm^3).\n",
        "\n",
        "Fermi energy represents the energy of the highest occupied electron state at 0K. K_f is fermi wave vector."
      ]
    },
    {
      "cell_type": "code",
      "execution_count": null,
      "metadata": {
        "colab": {
          "base_uri": "https://localhost:8080/"
        },
        "id": "6cVBYyRvLfpd",
        "outputId": "de394a54-7383-4d2a-d12d-c4fcd415c20b"
      },
      "outputs": [
        {
          "output_type": "stream",
          "name": "stdout",
          "text": [
            "The density 8960.00 kg/m^3.\n"
          ]
        }
      ],
      "source": [
        "def density_to_si(i):\n",
        "    \"\"\"\n",
        "    This function converts density(g/cm^3) to kg/m^3.\n",
        "    \"\"\"\n",
        "    return (i*10**-3)/(10**-6)\n",
        "\n",
        "# Example\n",
        "x = density_to_si(8.96)\n",
        "print(f\"The density {x:.2f} kg/m^3.\")"
      ]
    },
    {
      "cell_type": "code",
      "execution_count": null,
      "metadata": {
        "colab": {
          "base_uri": "https://localhost:8080/"
        },
        "id": "pH1FJhHZMqc4",
        "outputId": "b15010db-8c9c-4e05-e722-af93def94aeb"
      },
      "outputs": [
        {
          "output_type": "stream",
          "name": "stdout",
          "text": [
            "The atomic mass 0.0635 kg/mole.\n"
          ]
        }
      ],
      "source": [
        "def atomic_wt_to_si(m):\n",
        "    \"\"\"\n",
        "    This function converts atomic mass(gm/mole) to kg/mole.\n",
        "    \"\"\"\n",
        "    return m*10**-3\n",
        "\n",
        "# Example\n",
        "mass = atomic_wt_to_si(63.5)\n",
        "print(f\"The atomic mass {mass:.4f} kg/mole.\")"
      ]
    },
    {
      "cell_type": "code",
      "execution_count": null,
      "metadata": {
        "colab": {
          "base_uri": "https://localhost:8080/"
        },
        "id": "GiV9N0lYN9gX",
        "outputId": "e0fa0093-3750-4199-e10b-929bfe0d814e"
      },
      "outputs": [
        {
          "output_type": "stream",
          "name": "stdout",
          "text": [
            "The number density of Iron(Fe) 1.6980e+29 electrons/m^3.\n"
          ]
        }
      ],
      "source": [
        "def no_density(d,i,m):\n",
        "    \"\"\"\n",
        "    This function calculates the free electron density of the element.\n",
        "    \"\"\"\n",
        "    Na = 6.022*10**23\n",
        "    pho = density_to_si(i)\n",
        "    mass = atomic_wt_to_si(m)\n",
        "    return (d*Na*pho/mass)\n",
        "\n",
        "# Example of Fe\n",
        "x = no_density(2,7.874,55.85)\n",
        "print(f\"The number density of Iron(Fe) {x:.4e} electrons/m^3.\")"
      ]
    },
    {
      "cell_type": "code",
      "execution_count": null,
      "metadata": {
        "colab": {
          "base_uri": "https://localhost:8080/"
        },
        "id": "eyeQ1fgHQJJ1",
        "outputId": "3c6dfc89-647c-42d5-fd15-270277f3e5d8"
      },
      "outputs": [
        {
          "output_type": "stream",
          "name": "stdout",
          "text": [
            "The Fermi energy of Iron(Fe) 11.20 eV.\n"
          ]
        }
      ],
      "source": [
        "import math\n",
        "def Fermi_energy():\n",
        "    \"\"\"\n",
        "    This function calculates the Fermi energy based on the previous values of the element.\n",
        "    \"\"\"\n",
        "    n = no_density(2,7.874,55.85)\n",
        "    K_f = (3*n*math.pi**2)**(1/3)\n",
        "    hcut = 1.054*10**-34\n",
        "    m_e = 9.1*10**-31\n",
        "    E_f = (hcut*K_f)**2/(2*m_e)\n",
        "    E_f_in_eV = E_f/(1.6*10**-19)\n",
        "    return E_f_in_eV\n",
        "\n",
        "# Example\n",
        "x = Fermi_energy()\n",
        "print(f\"The Fermi energy of Iron(Fe) {x:.2f} eV.\")"
      ]
    },
    {
      "cell_type": "code",
      "execution_count": null,
      "metadata": {
        "colab": {
          "base_uri": "https://localhost:8080/"
        },
        "id": "OK2Xpp_hSpeK",
        "outputId": "7c358d24-2ef1-482c-99d1-359dcd8ef554"
      },
      "outputs": [
        {
          "output_type": "stream",
          "name": "stdout",
          "text": [
            "The Fermi energy of Iron(Fe) 11.20 eV.\n"
          ]
        }
      ],
      "source": [
        "# 2nd version\n",
        "hcut = 1.054*10**-34 # Reduced Planck's constant (J·s)\n",
        "m_e = 9.1*10**-31 # Electron mass (kg)\n",
        "import math\n",
        "def Fermi_energy_modified(d,density,wt):\n",
        "    \"\"\"\n",
        "    This function calculates the Fermi energy(eV).\n",
        "    \"\"\"\n",
        "    n = no_density(d,density,wt)\n",
        "    K_f = (3*n*math.pi**2)**(1/3) # Fermi wave vector\n",
        "    E_f = (hcut*K_f)**2/(2*m_e)\n",
        "    E_f_in_eV = E_f/(1.6*10**-19)\n",
        "    return E_f_in_eV\n",
        "\n",
        "# Example\n",
        "d = 2 # Free electrons per atom of Fe\n",
        "density = 7.874 # gm/cm3\n",
        "wt = 55.85 # gm/mole\n",
        "\n",
        "x = Fermi_energy_modified(d,density,wt)\n",
        "print(f\"The Fermi energy of Iron(Fe) {x:.2f} eV.\")"
      ]
    },
    {
      "cell_type": "code",
      "execution_count": null,
      "metadata": {
        "colab": {
          "base_uri": "https://localhost:8080/"
        },
        "id": "eskZkm1FWRDy",
        "outputId": "59fdfa74-906b-49ae-ea20-60f6617c896b"
      },
      "outputs": [
        {
          "output_type": "stream",
          "name": "stdout",
          "text": [
            "The Fermi energy of Copper(Cu) 7.06 eV.\n"
          ]
        }
      ],
      "source": [
        "# Example of Copper\n",
        "d = 1\n",
        "density = 8.96\n",
        "wt = 63.5\n",
        "x = Fermi_energy_modified(d,density,wt)\n",
        "print(f\"The Fermi energy of Copper(Cu) {x:.2f} eV.\")"
      ]
    },
    {
      "cell_type": "markdown",
      "source": [
        "**Fermi Velocity**"
      ],
      "metadata": {
        "id": "7BCEfMCYoSOC"
      }
    },
    {
      "cell_type": "code",
      "execution_count": null,
      "metadata": {
        "id": "dYL0uYcPlGPK",
        "colab": {
          "base_uri": "https://localhost:8080/"
        },
        "outputId": "51522977-b8d9-4873-f5fd-941b1ff0790b"
      },
      "outputs": [
        {
          "output_type": "stream",
          "name": "stdout",
          "text": [
            "The Fermi velocity of Copper(Cu) 1.575e+06 m/sec.\n"
          ]
        }
      ],
      "source": [
        "import math\n",
        "def Fermi_vel(d,density,wt):\n",
        "  v_f = math.sqrt(2*Fermi_energy_modified(d,density,wt)*e_V/m_e)\n",
        "  return v_f\n",
        "\n",
        "# Example of Copper\n",
        "d = 1\n",
        "density = 8.96\n",
        "wt = 63.5\n",
        "x = Fermi_vel(d,density,wt)\n",
        "print(f\"The Fermi velocity of Copper(Cu) {x:.3e} m/sec.\")"
      ]
    },
    {
      "cell_type": "markdown",
      "source": [
        "**Fermi Temperature**"
      ],
      "metadata": {
        "id": "B7efWoa-ne7J"
      }
    },
    {
      "cell_type": "code",
      "execution_count": null,
      "metadata": {
        "colab": {
          "base_uri": "https://localhost:8080/"
        },
        "id": "UMx2xixBjWl_",
        "outputId": "8a8ca9ff-bd22-4d5c-fb29-023cf9b61648"
      },
      "outputs": [
        {
          "output_type": "stream",
          "name": "stdout",
          "text": [
            "The Fermi temperature of Copper(Cu) 8.18e+04 K.\n"
          ]
        }
      ],
      "source": [
        "K_b = 1.38065*10**-23 # Boltzmann constant (J/K)\n",
        "e_V = 1.6*10**-19 # conversion of 1 eV to 1 Joule\n",
        "def Fermi_temp(d,density,wt):\n",
        "    \"\"\"\n",
        "    The function calculates the fermi temperature of the element\n",
        "    \"\"\"\n",
        "    E_f_joule = Fermi_energy_modified(d,density,wt)*e_V\n",
        "    return E_f_joule/K_b\n",
        "\n",
        "# Example of Copper\n",
        "d = 1\n",
        "density = 8.96\n",
        "wt = 63.5\n",
        "x = Fermi_temp(d,density,wt)\n",
        "print(f\"The Fermi temperature of Copper(Cu) {x:.2e} K.\")"
      ]
    },
    {
      "cell_type": "code",
      "execution_count": null,
      "metadata": {
        "colab": {
          "base_uri": "https://localhost:8080/"
        },
        "id": "E9DwzMwTk2tJ",
        "outputId": "6a24fc85-3828-4a74-8322-44c43c086658"
      },
      "outputs": [
        {
          "output_type": "stream",
          "name": "stdout",
          "text": [
            "The Fermi temperature of Iron(Fe) 1.30e+05 K.\n"
          ]
        }
      ],
      "source": [
        "# Example of Fe\n",
        "d = 2 # Free electrons per atom of Fe\n",
        "density = 7.874 # gm/cm3\n",
        "wt = 55.85 # gm/mole\n",
        "x = Fermi_temp(d,density,wt)\n",
        "print(f\"The Fermi temperature of Iron(Fe) {x:.2e} K.\")"
      ]
    },
    {
      "cell_type": "markdown",
      "source": [
        "**Degenerate Pressure**"
      ],
      "metadata": {
        "id": "TGYYhqIqsNsj"
      }
    },
    {
      "cell_type": "code",
      "source": [
        "hcut = 1.054*10**-34 # Reduced Planck's constant (J·s)\n",
        "m_e = 9.1*10**-31 # Electron mass (kg)\n",
        "import math\n",
        "def degenerate_pressure(d,density,wt):\n",
        "    n = no_density(d,density,wt)\n",
        "    K_f = (3*n*math.pi**2)**(1/3) # Fermi wave vector\n",
        "    P_f = (hcut**2*K_f**5)/(15*m_e*math.pi**2)\n",
        "    P_f_diff = ((3*math.pi**2)**(2/3))*(hcut**2)*(n**(5/3))/(5*m_e)\n",
        "    return P_f, P_f_diff\n",
        "\n",
        "# Example of Copper\n",
        "d = 1\n",
        "density = 8.96\n",
        "wt = 63.5\n",
        "P1,P2 = degenerate_pressure(d,density,wt)\n",
        "print(f\"The Degenerate pressure of Copper(Cu) (using K_f) {P1:.3} N/m^2.\")\n",
        "print(f\"The Degenerate pressure of Copper(Cu) (using n^5/3) {P2:.3} N/m^2.\")\n"
      ],
      "metadata": {
        "colab": {
          "base_uri": "https://localhost:8080/"
        },
        "id": "4Wfxs2Pmorvz",
        "outputId": "480f7cf6-8a50-453c-8a9f-125e0acedf8b"
      },
      "execution_count": null,
      "outputs": [
        {
          "output_type": "stream",
          "name": "stdout",
          "text": [
            "The Degenerate pressure of Copper(Cu) (using K_f) 3.84e+10 N/m^2.\n",
            "The Degenerate pressure of Copper(Cu) (using n^5/3) 3.84e+10 N/m^2.\n"
          ]
        }
      ]
    },
    {
      "cell_type": "code",
      "source": [
        "# Example of Fe\n",
        "d = 2 # Free electrons per atom of Fe\n",
        "density = 7.874 # gm/cm3\n",
        "wt = 55.85 # gm/mole\n",
        "x = degenerate_pressure(d,density,wt)\n",
        "print(f\"The Degenerate pressure of Copper(Cu) (using K_f) {P1:.3} N/m^2.\")"
      ],
      "metadata": {
        "colab": {
          "base_uri": "https://localhost:8080/"
        },
        "id": "gAL9PbCasFbj",
        "outputId": "a2894a7c-d17c-4d1e-fb45-5cf1aba17b19"
      },
      "execution_count": null,
      "outputs": [
        {
          "output_type": "stream",
          "name": "stdout",
          "text": [
            "The Degenerate pressure of Copper(Cu) (using K_f) 3.84e+10 N/m^2.\n"
          ]
        }
      ]
    },
    {
      "cell_type": "markdown",
      "source": [
        "**Final Result**\n",
        "\n",
        "---\n",
        "\n",
        "\n",
        "**For Copper**\n",
        "*  Atomic density = 8.96 gm/cm^3\n",
        "*  Atomic weight = 63.5 gm/mole\n",
        "*  no. of free electrons per atom = 1\n",
        "\n"
      ],
      "metadata": {
        "id": "h3vgJg_HvxM8"
      }
    },
    {
      "cell_type": "code",
      "source": [
        "d = 1\n",
        "density = 8.96\n",
        "wt = 63.5"
      ],
      "metadata": {
        "id": "3tdxDpOGwN9X"
      },
      "execution_count": null,
      "outputs": []
    },
    {
      "cell_type": "code",
      "source": [
        "print(f\"The number density  = {no_density(d,density,wt):.4e} electrons/m^3.\")\n",
        "print(f\"The Fermi energy = {Fermi_energy_modified(d,density,wt):.2f} eV.\")\n",
        "print(f\"The Fermi velocity = {Fermi_vel(d,density,wt):.3e} m/sec.\")\n",
        "print(f\"The Fermi temperature = {Fermi_temp(d,density,wt):.2e} K.\")\n",
        "print(f\"The Degenerate pressure (using K_f) = {degenerate_pressure(d,density,wt)[0]:.3} N/m^2.\")"
      ],
      "metadata": {
        "colab": {
          "base_uri": "https://localhost:8080/"
        },
        "id": "U9MkMOn9wtfL",
        "outputId": "46ff667d-0b6a-441c-85d7-cdba537e7995"
      },
      "execution_count": null,
      "outputs": [
        {
          "output_type": "stream",
          "name": "stdout",
          "text": [
            "The number density  = 8.4972e+28 electrons/m^3.\n",
            "The Fermi energy = 7.06 eV.\n",
            "The Fermi velocity = 1.575e+06 m/sec.\n",
            "The Fermi temperature = 8.18e+04 K.\n",
            "The Degenerate pressure (using K_f) = 3.84e+10 N/m^2.\n"
          ]
        }
      ]
    }
  ],
  "metadata": {
    "colab": {
      "provenance": [],
      "toc_visible": true,
      "authorship_tag": "ABX9TyOdNBFLhwaOCEgzxcdEFA0V",
      "include_colab_link": true
    },
    "kernelspec": {
      "display_name": "Python 3",
      "name": "python3"
    },
    "language_info": {
      "name": "python"
    }
  },
  "nbformat": 4,
  "nbformat_minor": 0
}